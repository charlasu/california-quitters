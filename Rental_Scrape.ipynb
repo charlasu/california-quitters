{
 "cells": [
  {
   "cell_type": "code",
   "execution_count": 1,
   "metadata": {},
   "outputs": [],
   "source": [
    "#import dependencies\n",
    "from bs4 import BeautifulSoup as bs\n",
    "import pandas as pd\n",
    "import requests\n",
    "from pprint import pprint\n",
    "import json"
   ]
  },
  {
   "cell_type": "code",
   "execution_count": 2,
   "metadata": {},
   "outputs": [],
   "source": [
    "#set the base url\n",
    "burl = 'https://www.deptofnumbers.com/rent/'"
   ]
  },
  {
   "cell_type": "code",
   "execution_count": null,
   "metadata": {},
   "outputs": [],
   "source": [
    "#set a list of states to scrape\n",
    "states = ['California', 'Arizona', 'Colorado', 'Idaho', 'New-Mexico', 'Nevada', 'Oregon', 'Utah', 'Washington']\n",
    "\n",
    "#initialize a list to store dataframes containing rate infor\n",
    "rent_tables = []\n",
    "\n",
    "#iterate through states to scrape gross rate table\n",
    "for state in states:\n",
    "    page = requests.get(burl + state)\n",
    "    soup = bs(page.text, 'lxml')\n",
    "    rent_table = soup.find('table', attrs={'summary': 'Nominal gross rent rates since 2005'})\n",
    "    rent_df = pd.read_html(str(rent_table))[0]\n",
    "    transposed = rent_df.transpose()\n",
    "    #rent_df\n",
    "    #rent_dict = rent_df.to_dict('split')\n",
    "    rent_tables.append(transposed)"
   ]
  },
  {
   "cell_type": "code",
   "execution_count": null,
   "metadata": {},
   "outputs": [],
   "source": [
    "#scrub the data frame and output to csv\n",
    "gross_rent_df = pd.concat(rent_tables, sort=True)\n",
    "gross_rent_df = gross_rent_df.drop_duplicates()\n",
    "gross_rent_df.columns = gross_rent_df.loc['Date']\n",
    "gross_rent_df = gross_rent_df.transpose()\n",
    "gross_rent_df = gross_rent_df.drop(['Date'], axis=1)\n",
    "gross_rent_df.to_csv('numbers_output/gross_rent.csv')\n",
    "gross_rent_df"
   ]
  },
  {
   "cell_type": "code",
   "execution_count": null,
   "metadata": {},
   "outputs": [],
   "source": [
    "#intialize a list to store dataframes of rental vacancy rates\n",
    "vacancy_tables = []\n",
    "\n",
    "#iterate through states to scrape gross rate table\n",
    "for state in states:\n",
    "    page = requests.get(burl + state)\n",
    "    soup = bs(page.text, 'lxml')\n",
    "    if state == 'New-Mexico':\n",
    "        state = 'New Mexico'\n",
    "    vacancy_table = soup.find('table', attrs={'summary': 'Summary of ' + state + ' rental vacancy rate statistics for ' + state +' since 2005'})\n",
    "    vacancy_df = pd.read_html(str(vacancy_table))[0]\n",
    "    transposed = vacancy_df.transpose()\n",
    "    vacancy_tables.append(transposed)"
   ]
  },
  {
   "cell_type": "code",
   "execution_count": null,
   "metadata": {},
   "outputs": [],
   "source": [
    "#scrub the data frame and output to csv\n",
    "vacancy_df = pd.concat(vacancy_tables, sort=True)\n",
    "vacancy_df = vacancy_df.drop_duplicates()\n",
    "vacancy_df.columns = vacancy_df.loc['Date']\n",
    "vacancy_df = vacancy_df.transpose()\n",
    "vacancy_df = vacancy_df.drop(['Date'], axis=1)\n",
    "vacancy_df.to_csv('numbers_output/vacancy_rate.csv')\n",
    "vacancy_df"
   ]
  },
  {
   "cell_type": "code",
   "execution_count": null,
   "metadata": {},
   "outputs": [],
   "source": [
    "#intialize a list to store dataframes of rental vacancy rates\n",
    "fraction_tables = []\n",
    "\n",
    "#iterate through states to scrape gross rate table\n",
    "for state in states:\n",
    "    page = requests.get(burl + state)\n",
    "    soup = bs(page.text, 'lxml')\n",
    "    if state == 'New-Mexico':\n",
    "        state = 'New Mexico'\n",
    "    fraction_table = soup.find('table', attrs={'summary': 'Summary of income fraction going towards rent for ' + state +' since 2005'})\n",
    "    fraction_df = pd.read_html(str(fraction_table))[0]\n",
    "    transposed = fraction_df.transpose()\n",
    "    fraction_tables.append(transposed)"
   ]
  },
  {
   "cell_type": "code",
   "execution_count": null,
   "metadata": {},
   "outputs": [],
   "source": [
    "#scrub the data frame and output to csv\n",
    "fraction_df = pd.concat(fraction_tables, sort=True)\n",
    "fraction_df = fraction_df.drop_duplicates()\n",
    "fraction_df.columns = fraction_df.loc['Date']\n",
    "fraction_df = fraction_df.transpose()\n",
    "fraction_df = fraction_df.drop(['Date'], axis=1)\n",
    "fraction_df.to_csv('numbers_output/income_fraction.csv')\n",
    "fraction_df"
   ]
  },
  {
   "cell_type": "code",
   "execution_count": null,
   "metadata": {},
   "outputs": [],
   "source": []
  }
 ],
 "metadata": {
  "kernelspec": {
   "display_name": "Python [conda env:PythonData]",
   "language": "python",
   "name": "conda-env-PythonData-py"
  },
  "language_info": {
   "codemirror_mode": {
    "name": "ipython",
    "version": 3
   },
   "file_extension": ".py",
   "mimetype": "text/x-python",
   "name": "python",
   "nbconvert_exporter": "python",
   "pygments_lexer": "ipython3",
   "version": "3.6.5"
  }
 },
 "nbformat": 4,
 "nbformat_minor": 2
}
